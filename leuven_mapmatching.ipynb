{
 "cells": [
  {
   "cell_type": "code",
   "execution_count": 1,
   "metadata": {},
   "outputs": [],
   "source": [
    "import osmnx as ox\n",
    "from leuvenmapmatching.map.inmem import InMemMap\n",
    "import networkx as nx\n",
    "import geopandas as gpd"
   ]
  },
  {
   "cell_type": "code",
   "execution_count": 3,
   "metadata": {},
   "outputs": [],
   "source": [
    "#node = gpd.read_file('MOCT_NODE.shp')\n",
    "link = gpd.read_file('MOCT_LINK.shp')\n",
    "\n",
    "#노드자료 좌표계 변경 korea2000 -> wgs84\n",
    "#node = node.to_crs({'init': 'epsg:4326'})\n",
    "\n",
    "#링크자료 좌표계 변경 korea2000 -> wgs84\n",
    "link = link.to_crs({'init': 'epsg:4326'})"
   ]
  },
  {
   "cell_type": "markdown",
   "metadata": {},
   "source": [
    "map 생성"
   ]
  },
  {
   "cell_type": "code",
   "execution_count": 4,
   "metadata": {},
   "outputs": [],
   "source": [
    "map_con = InMemMap(\"mymap\", use_latlon=True, use_rtree=True, index_edges=True)"
   ]
  },
  {
   "cell_type": "code",
   "execution_count": null,
   "metadata": {},
   "outputs": [],
   "source": [
    "'''\n",
    "#index를 node_id로 지정\n",
    "node = node.set_index('NODE_ID')\n",
    "\n",
    "#node 추가\n",
    "for nid, row in node[['geometry']].iterrows():\n",
    "    map_con.add_node(int(nid), (row[0].x, row[0].y))\n",
    "    \n",
    "#value error handling: 링크의 시, 종점 노드가 노드 데이터에 없어 발생하는 현상, 없는 노드를 다시 추가해줌\n",
    "def value_error_handling(f_node, t_node, geom):\n",
    "    f_node = int(f_node)\n",
    "    t_node = int(t_node)\n",
    "    nodes_num = 0\n",
    "    for coord in geom.coords:\n",
    "        nodes_num = nodes_num+1\n",
    "        \n",
    "    #linestring의 첫 번째는 F_NODE\n",
    "    map_con.add_node(f_node, (geom.coords[0][0], geom.coords[0][1]))\n",
    "    \n",
    "    #linestring의 마지막은 T_NODE\n",
    "    map_con.add_node(t_node, (geom.coords[nodes_num-1][0], geom.coords[nodes_num-1][1]))\n",
    "    \n",
    "    #add_edge\n",
    "    map_con.add_edge(f_node, t_node)\n",
    "    \n",
    "#링크 추가\n",
    "for nid, row in link[['F_NODE', 'T_NODE', 'geometry']].iterrows():\n",
    "    try:\n",
    "        map_con.add_edge(int(row['F_NODE']), int(row['T_NODE']))\n",
    "    except ValueError:\n",
    "        value_error_handling(row['F_NODE'], row['T_NODE'], row['geometry'])\n",
    "'''"
   ]
  },
  {
   "cell_type": "code",
   "execution_count": 10,
   "metadata": {},
   "outputs": [],
   "source": [
    "for nid, row in link[['F_NODE', 'T_NODE', 'geometry']].iterrows():\n",
    "    f_node = int(row['F_NODE'])\n",
    "    t_node = int(row['T_NODE'])\n",
    "    geom = row['geometry']\n",
    "    \n",
    "    nodes_num = 0\n",
    "    for coord in geom.coords:\n",
    "        nodes_num = nodes_num+1\n",
    "    \n",
    "    #add_node: f_node(시점), t_node(종점)\n",
    "    map_con.add_node(f_node, (geom.coords[0][1], geom.coords[0][0]))\n",
    "    map_con.add_node(t_node, (geom.coords[nodes_num-1][1], geom.coords[nodes_num-1][0]))\n",
    "    \n",
    "    #add_edge\n",
    "    map_con.add_edge(f_node, t_node)"
   ]
  },
  {
   "cell_type": "markdown",
   "metadata": {},
   "source": [
    "gps 데이터 가져오기"
   ]
  },
  {
   "cell_type": "code",
   "execution_count": 6,
   "metadata": {},
   "outputs": [],
   "source": [
    "import pandas as pd\n",
    "from rdp import rdp"
   ]
  },
  {
   "cell_type": "code",
   "execution_count": 7,
   "metadata": {},
   "outputs": [],
   "source": [
    "#gps data 불러오기\n",
    "gps_data = pd.read_csv('Task1_20191105.csv')\n",
    "\n",
    "#gps데이터에서 생성시간, 위도, 경도 데이터만 나타내기\n",
    "gps_data = gps_data[['003_vmcu real vehicle speed','created_on', 'latitude', 'longitude']]\n",
    "gps_data.rename(columns = {'003_vmcu real vehicle speed' : 'speed'}, inplace = True)\n",
    "\n",
    "#이상치 제거 - 위도, 경도가 0이고, 속도가 0인 것(정지상태)\n",
    "gps_data = gps_data[gps_data.latitude !=0]\n",
    "gps_data = gps_data[gps_data.longitude !=0]\n",
    "gps_data = gps_data[gps_data.speed !=\"0.0mph\"]\n",
    "\n",
    "#Florian Wilhelm - Handling GPS Data with Python https://youtu.be/9Q8nEA_0ccg\n",
    "route = rdp(gps_data[['latitude','longitude']].values, epsilon=1e-5)"
   ]
  },
  {
   "cell_type": "code",
   "execution_count": 8,
   "metadata": {},
   "outputs": [],
   "source": [
    "#route(array 형식)를 list 형식으로 바꾸기\n",
    "route_list = [tuple(x) for x in route.tolist()]"
   ]
  },
  {
   "cell_type": "markdown",
   "metadata": {},
   "source": [
    "leuven map matching 적용하기"
   ]
  },
  {
   "cell_type": "code",
   "execution_count": 11,
   "metadata": {},
   "outputs": [],
   "source": [
    "from leuvenmapmatching.matcher.distance import DistanceMatcher"
   ]
  },
  {
   "cell_type": "code",
   "execution_count": 27,
   "metadata": {},
   "outputs": [],
   "source": [
    "matcher = DistanceMatcher(map_con, max_dist=1500, max_dist_init=1500, min_prob_norm=0.1,\n",
    "                              obs_noise=30, obs_noise_ne=30, dist_noise=10,\n",
    "                         non_emitting_states = False)\n",
    "states, _ = matcher.match(route_list)\n",
    "nodes = matcher.path_pred_onlynodes"
   ]
  },
  {
   "cell_type": "code",
   "execution_count": 28,
   "metadata": {},
   "outputs": [
    {
     "data": {
      "text/plain": [
       "[]"
      ]
     },
     "execution_count": 28,
     "metadata": {},
     "output_type": "execute_result"
    }
   ],
   "source": [
    "nodes"
   ]
  },
  {
   "cell_type": "code",
   "execution_count": 21,
   "metadata": {},
   "outputs": [
    {
     "data": {
      "text/plain": [
       "[]"
      ]
     },
     "execution_count": 21,
     "metadata": {},
     "output_type": "execute_result"
    }
   ],
   "source": [
    "states"
   ]
  },
  {
   "cell_type": "code",
   "execution_count": null,
   "metadata": {},
   "outputs": [],
   "source": []
  }
 ],
 "metadata": {
  "kernelspec": {
   "display_name": "Python 3",
   "language": "python",
   "name": "python3"
  },
  "language_info": {
   "codemirror_mode": {
    "name": "ipython",
    "version": 3
   },
   "file_extension": ".py",
   "mimetype": "text/x-python",
   "name": "python",
   "nbconvert_exporter": "python",
   "pygments_lexer": "ipython3",
   "version": "3.7.3"
  }
 },
 "nbformat": 4,
 "nbformat_minor": 2
}
