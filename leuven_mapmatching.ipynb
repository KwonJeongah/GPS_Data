{
 "cells": [
  {
   "cell_type": "code",
   "execution_count": 1,
   "metadata": {},
   "outputs": [],
   "source": [
    "from leuvenmapmatching.map.inmem import InMemMap\n",
    "from leuvenmapmatching.matcher.distance import DistanceMatcher\n",
    "import leuvenmapmatching.visualization as mm_viz\n",
    "import geopandas as gpd\n",
    "import pandas as pd\n",
    "import smopy\n",
    "from rdp import rdp\n",
    "import folium\n",
    "from matplotlib import pyplot as plt"
   ]
  },
  {
   "cell_type": "code",
   "execution_count": 3,
   "metadata": {},
   "outputs": [],
   "source": [
    "#node = gpd.read_file('MOCT_NODE.shp')\n",
    "link = gpd.read_file('MOCT_LINK.shp')\n",
    "\n",
    "#노드자료 좌표계 변경 korea2000 -> wgs84\n",
    "#node = node.to_crs({'init': 'epsg:4326'})\n",
    "\n",
    "#링크자료 좌표계 변경 korea2000 -> wgs84\n",
    "link = link.to_crs({'init': 'epsg:4326'})"
   ]
  },
  {
   "cell_type": "code",
   "execution_count": 4,
   "metadata": {},
   "outputs": [],
   "source": [
    "#link에서 필요한 것만 나타내기\n",
    "link = link[['LINK_ID','F_NODE','T_NODE','geometry']]"
   ]
  },
  {
   "cell_type": "code",
   "execution_count": 5,
   "metadata": {},
   "outputs": [],
   "source": [
    "F_lat = []\n",
    "F_lon = []\n",
    "T_lat = []\n",
    "T_lon = []\n",
    "\n",
    "for i in range(0,len(link)):\n",
    "    geom = link.iloc[i]['geometry']\n",
    "        \n",
    "    F_lat.append(geom.coords[0][1])\n",
    "    F_lon.append(geom.coords[0][0])\n",
    "    T_lat.append(geom.coords[-1][1])\n",
    "    T_lon.append(geom.coords[-1][0])"
   ]
  },
  {
   "cell_type": "code",
   "execution_count": 6,
   "metadata": {},
   "outputs": [],
   "source": [
    "link['F_lat'] = F_lat\n",
    "link['F_lon'] = F_lon\n",
    "link['T_lat'] = T_lat\n",
    "link['T_lon'] = T_lon"
   ]
  },
  {
   "cell_type": "markdown",
   "metadata": {},
   "source": [
    "map 생성"
   ]
  },
  {
   "cell_type": "code",
   "execution_count": 7,
   "metadata": {},
   "outputs": [],
   "source": [
    "map_con = InMemMap(\"mymap\", use_latlon=True, use_rtree=True, index_edges=True)"
   ]
  },
  {
   "cell_type": "code",
   "execution_count": 8,
   "metadata": {},
   "outputs": [],
   "source": [
    "for nid, row in link[['F_NODE', 'T_NODE', 'F_lat', 'F_lon', 'T_lat','T_lon']].iterrows():\n",
    "    f_node = int(row['F_NODE'])\n",
    "    t_node = int(row['T_NODE'])\n",
    "\n",
    "    #add_node: f_node(시점), t_node(종점)\n",
    "    map_con.add_node(f_node, (row['F_lat'], row['F_lon']))\n",
    "    map_con.add_node(t_node, (row['T_lat'], row['T_lon']))\n",
    "    \n",
    "    #add_edge: 하면서 덧씌워지는 듯\n",
    "    map_con.add_edge(f_node, t_node)   "
   ]
  },
  {
   "cell_type": "markdown",
   "metadata": {},
   "source": [
    "gps 데이터 가져오기"
   ]
  },
  {
   "cell_type": "code",
   "execution_count": 9,
   "metadata": {},
   "outputs": [],
   "source": [
    "#gps data 불러오기\n",
    "gps_data = pd.read_csv('Task1_20191105.csv')\n",
    "\n",
    "#gps데이터에서 생성시간, 위도, 경도 데이터만 나타내기\n",
    "gps_data = gps_data[['latitude', 'longitude']]\n",
    "\n",
    "#이상치 제거 - 위도, 경도가 0이고, 속도가 0인 것(정지상태)\n",
    "gps_data = gps_data[gps_data.latitude !=0]\n",
    "gps_data = gps_data[gps_data.longitude !=0]\n",
    "#gps_data = gps_data[gps_data.speed !=\"0.0mph\"]\n",
    "\n"
   ]
  },
  {
   "cell_type": "code",
   "execution_count": null,
   "metadata": {},
   "outputs": [],
   "source": [
    "#rdp 미적용\n",
    "#route_list = [tuple(x) for x in gps_data.to_numpy()]"
   ]
  },
  {
   "cell_type": "code",
   "execution_count": 10,
   "metadata": {},
   "outputs": [],
   "source": [
    "#rdp 적용\n",
    "#Florian Wilhelm - Handling GPS Data with Python https://youtu.be/9Q8nEA_0ccg\n",
    "route = rdp(gps_data[['latitude','longitude']].values, epsilon=1e-5)\n",
    "\n",
    "#route(array 형식)를 list 형식으로 바꾸기\n",
    "route_list = [tuple(x) for x in route.tolist()]\n"
   ]
  },
  {
   "cell_type": "code",
   "execution_count": 28,
   "metadata": {},
   "outputs": [],
   "source": [
    "#route_list 중 100개만 \n",
    "track = route_list[:100]"
   ]
  },
  {
   "cell_type": "markdown",
   "metadata": {},
   "source": [
    "leuven map matching 적용하기"
   ]
  },
  {
   "cell_type": "code",
   "execution_count": 29,
   "metadata": {},
   "outputs": [],
   "source": [
    "#일반도로의 경우 500, 고속도로의 경우 2000정도 max_dist 지정해줘야 함\n",
    "#고속도로 포함: max_dist = 3000, min_prob_norm=0.0001, dist_noise=100정도 하면 돌아가긴 하나, 노트북이 멈춤\n",
    "\n",
    "matcher = DistanceMatcher(map_con,\n",
    "                              max_dist = 600, min_prob_norm=0.0001,\n",
    "                              non_emitting_length_factor=0.75,\n",
    "                              obs_noise=100, obs_noise_ne=50,\n",
    "                              dist_noise=100,\n",
    "                              max_lattice_width=5, avoid_goingback=True,\n",
    "                              non_emitting_states=True)\n",
    "states, last_idx = matcher.match(track)"
   ]
  },
  {
   "cell_type": "code",
   "execution_count": null,
   "metadata": {},
   "outputs": [],
   "source": [
    "nodes = matcher.path_pred_onlynodes"
   ]
  },
  {
   "cell_type": "code",
   "execution_count": null,
   "metadata": {},
   "outputs": [],
   "source": [
    "'''\n",
    "#leuven map matching내의 메소드 이용하여 시각화\n",
    "mm_viz.plot_map(map_con, matcher=matcher, use_osm=True,show_labels=False,\n",
    "                zoom_path=True, show_graph=False, show_matching=True,\n",
    "                filename=str(\"result.png\"))\n",
    "\n",
    "'''"
   ]
  },
  {
   "cell_type": "markdown",
   "metadata": {},
   "source": [
    "folium 이용한 시각화"
   ]
  },
  {
   "cell_type": "markdown",
   "metadata": {},
   "source": [
    "중간에 매칭된 mid node 좌표 찾기 (mm_viz로 그린 결과에서 초록색 x)"
   ]
  },
  {
   "cell_type": "code",
   "execution_count": 21,
   "metadata": {},
   "outputs": [],
   "source": [
    "def to_pixels(lat, lon=None):\n",
    "    if lon is None:\n",
    "        lat, lon = lat[0], lat[1]\n",
    "    return lon, lat"
   ]
  },
  {
   "cell_type": "code",
   "execution_count": 22,
   "metadata": {},
   "outputs": [],
   "source": [
    "#matching 노드의 좌푯값 찾기\n",
    "def find_mid_nodes(matcher,  coords_list=None):\n",
    "    coord_trans = None\n",
    "    ax = None\n",
    "    \n",
    "    z=18\n",
    "    \n",
    "    bb = map_con.bb()    \n",
    "    m = smopy.Map(bb, z=z, ax=ax)\n",
    "    \n",
    "    if matcher is not None:\n",
    "        lat_nodes = matcher.lattice_best\n",
    "    else:\n",
    "        lat_nodes = None\n",
    "    \n",
    "    for idx, m in enumerate(lat_nodes):\n",
    "        lat, lon = m.edge_m.pi[:2]\n",
    "        #lat2, lon2 = m.edge_o.pi[:2]\n",
    "        \n",
    "        if coord_trans:\n",
    "         #   lat, lon = coord_trans(lat, lon)\n",
    "            lat2, lon2 = coord_trans(lat2, lon2)\n",
    "    \n",
    "        x,y = to_pixels(lat,lon)\n",
    "        #x2, y2 = to_pixels(lat2, lon2)\n",
    "        coords_list.append((y,x))   \n"
   ]
  },
  {
   "cell_type": "code",
   "execution_count": 23,
   "metadata": {},
   "outputs": [],
   "source": [
    "#base_map 형식 지정하기\n",
    "def generateBaseMap(default_location = [37.492397, 127.039084], default_zoom_start = 12):\n",
    "    base_map = folium.Map(location = default_location, control_scale = True, zoom_start = default_zoom_start)\n",
    "    return base_map"
   ]
  },
  {
   "cell_type": "code",
   "execution_count": 30,
   "metadata": {},
   "outputs": [
    {
     "name": "stdout",
     "output_type": "stream",
     "text": [
      "Lowered zoom level to keep map size reasonable. (z = 7)\n"
     ]
    }
   ],
   "source": [
    "mid_coords_list = []\n",
    "find_mid_nodes(matcher, mid_coords_list)\n",
    "\n",
    "mid_base_map = generateBaseMap()\n",
    "\n",
    "#gps 데이터를 나타내기\n",
    "for each in mid_coords_list:\n",
    "    folium.Marker(each).add_to(mid_base_map)\n",
    "\n",
    "\n",
    "folium.PolyLine(mid_coords_list).add_to(mid_base_map)\n",
    "\n",
    "mid_base_map.save(\"forward_mid_nodes.html\")"
   ]
  },
  {
   "cell_type": "markdown",
   "metadata": {},
   "source": [
    "최종적으로 매칭된 노드의 좌표 찾기"
   ]
  },
  {
   "cell_type": "code",
   "execution_count": null,
   "metadata": {},
   "outputs": [],
   "source": [
    "def find_fin_nodes(map_con,coords_list):\n",
    "    xs, ys, ls = [], [], []\n",
    "    prev = None\n",
    "    coord_trans = None\n",
    "    node_locs = []\n",
    "    bb = map_con.bb()    \n",
    "    \n",
    "    if nodes:\n",
    "        for node in nodes:\n",
    "            if type(node) == tuple:\n",
    "                node = node[0]\n",
    "            lat, lon = map_con.node_coordinates(node)\n",
    "            node_locs.append((lat, lon, node))\n",
    "    else:\n",
    "        prev_m = None\n",
    "        for m in matcher.lattice_best:\n",
    "            if prev_m is not None and prev_m.edge.m.l2 == m.edge_m.l1:\n",
    "                lat, lon = m.edge_m.p1\n",
    "                node_locs.append((lat, lon, m.edge_m.l1))\n",
    "            lat, lon = m.edge_m.pi\n",
    "            node_loc.append((lat, lon, m.edge_m.label))\n",
    "            prev_m = m\n",
    "    for lat, lon, label in node_locs:\n",
    "        if coord_trans:\n",
    "            lat, lon = coord_trans(lat, lon)\n",
    "        if bb[0] <= lat <= bb[2] and bb[1] <= lon <= bb[3]:\n",
    "            if prev is not None:\n",
    "                x, y = to_pixels(*prev)\n",
    "                xs.append(x)\n",
    "                ys.append(y)\n",
    "                ls.append(label)\n",
    "                prev = None\n",
    "            x, y = to_pixels(lat, lon)\n",
    "            coords_list.append((y,x))   \n",
    "            ls.append(label)\n",
    "        else:\n",
    "            if prev is None:\n",
    "                x, y = to_pixels(lat, lon)\n",
    "                coords_list.append((y,x))\n",
    "                ls.append(label)\n",
    "            prev = lat, lon"
   ]
  },
  {
   "cell_type": "code",
   "execution_count": null,
   "metadata": {},
   "outputs": [],
   "source": [
    "xs = []\n",
    "ys = []\n",
    "fin_coords_list=[]\n",
    "\n",
    "find_fin_nodes(map_con, fin_coords_list)\n",
    "\n",
    "fin_base_map = generateBaseMap()\n",
    "\n",
    "for each in fin_coords_list:\n",
    "    folium.Marker(each).add_to(fin_base_map)\n",
    "\n",
    "\n",
    "folium.PolyLine(fin_coords_list).add_to(fin_base_map)\n",
    "\n",
    "base_map.save(\"fin_nodes.html\")"
   ]
  }
 ],
 "metadata": {
  "kernelspec": {
   "display_name": "Python 3",
   "language": "python",
   "name": "python3"
  },
  "language_info": {
   "codemirror_mode": {
    "name": "ipython",
    "version": 3
   },
   "file_extension": ".py",
   "mimetype": "text/x-python",
   "name": "python",
   "nbconvert_exporter": "python",
   "pygments_lexer": "ipython3",
   "version": "3.7.3"
  }
 },
 "nbformat": 4,
 "nbformat_minor": 2
}
